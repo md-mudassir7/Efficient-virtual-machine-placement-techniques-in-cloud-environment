{
 "cells": [
  {
   "cell_type": "markdown",
   "metadata": {},
   "source": [
    "# LSTM"
   ]
  },
  {
   "cell_type": "code",
   "execution_count": 1,
   "metadata": {},
   "outputs": [],
   "source": [
    "from pandas import read_csv"
   ]
  },
  {
   "cell_type": "code",
   "execution_count": 2,
   "metadata": {},
   "outputs": [],
   "source": [
    "metrics = read_csv(\"planetlab02.csv\")"
   ]
  },
  {
   "cell_type": "code",
   "execution_count": 3,
   "metadata": {},
   "outputs": [],
   "source": [
    "import math\n",
    "import pandas as pd\n",
    "import numpy as np\n",
    "from tensorflow.keras.models import Sequential\n",
    "from tensorflow.keras.layers import Dense\n",
    "from tensorflow.keras.layers import LSTM\n",
    "\n",
    "from tensorflow.keras.layers import Dropout\n",
    "from tensorflow.keras.layers import *\n",
    "from sklearn.preprocessing import MinMaxScaler\n",
    "from sklearn.metrics import mean_squared_error\n",
    "from sklearn.metrics import mean_absolute_error"
   ]
  },
  {
   "cell_type": "code",
   "execution_count": 4,
   "metadata": {},
   "outputs": [],
   "source": [
    "def assignLabels(values):\n",
    "    label=[]\n",
    "    for i in (values):\n",
    "        if i<20:\n",
    "            label.append('u')\n",
    "        elif i>80:\n",
    "             label.append('o')\n",
    "        else:\n",
    "             label.append('n')\n",
    "    return label"
   ]
  },
  {
   "cell_type": "code",
   "execution_count": 5,
   "metadata": {},
   "outputs": [],
   "source": [
    "dataset = metrics[metrics.columns[[1]]].values #numpy.ndarray\n",
    "dataset = dataset.astype('float32')\n",
    "dataset = np.reshape(dataset, (-1, 1))\n",
    "scaler = MinMaxScaler(feature_range=(0, 1))\n",
    "dataset = scaler.fit_transform(dataset)\n",
    "train_size = int(len(dataset) * 0.70)\n",
    "test_size = len(dataset) - train_size\n",
    "train, test = dataset[0:train_size,:], dataset[train_size:len(dataset),:]\n",
    "\n",
    "def create_dataset(dataset, look_back=1):\n",
    "    X, Y = [], []\n",
    "    for i in range(len(dataset)-look_back-1):\n",
    "        a = dataset[i:(i+look_back), 0]\n",
    "        X.append(a)\n",
    "        Y.append(dataset[i + look_back, 0])\n",
    "    return np.array(X), np.array(Y)\n",
    "    \n",
    "look_back = 30\n",
    "X_train, Y_train = create_dataset(train, look_back)\n",
    "X_test, Y_test = create_dataset(test, look_back)\n",
    "\n",
    "# reshape input to be [samples, time steps, features]\n",
    "X_train = np.reshape(X_train, (X_train.shape[0], 1, X_train.shape[1]))\n",
    "X_test = np.reshape(X_test, (X_test.shape[0], 1, X_test.shape[1]))"
   ]
  },
  {
   "cell_type": "code",
   "execution_count": 6,
   "metadata": {},
   "outputs": [
    {
     "name": "stdout",
     "output_type": "stream",
     "text": [
      "Epoch 1/100\n",
      "17/17 [==============================] - 1s 56ms/step - loss: 0.0295 - val_loss: 0.0090\n",
      "Epoch 2/100\n",
      "17/17 [==============================] - 0s 6ms/step - loss: 0.0289 - val_loss: 0.0053\n",
      "Epoch 3/100\n",
      "17/17 [==============================] - 0s 7ms/step - loss: 0.0275 - val_loss: 0.0053\n",
      "Epoch 4/100\n",
      "17/17 [==============================] - 0s 7ms/step - loss: 0.0235 - val_loss: 0.0054\n",
      "Epoch 5/100\n",
      "17/17 [==============================] - 0s 6ms/step - loss: 0.0233 - val_loss: 0.0053\n",
      "Epoch 6/100\n",
      "17/17 [==============================] - 0s 7ms/step - loss: 0.0230 - val_loss: 0.0053\n",
      "Epoch 7/100\n",
      "17/17 [==============================] - 0s 11ms/step - loss: 0.0225 - val_loss: 0.0053\n",
      "Epoch 8/100\n",
      "17/17 [==============================] - 0s 10ms/step - loss: 0.0227 - val_loss: 0.0053\n",
      "Epoch 9/100\n",
      "17/17 [==============================] - 0s 8ms/step - loss: 0.0220 - val_loss: 0.0053\n",
      "Epoch 10/100\n",
      "17/17 [==============================] - 0s 6ms/step - loss: 0.0221 - val_loss: 0.0054\n",
      "Epoch 11/100\n",
      "17/17 [==============================] - 0s 6ms/step - loss: 0.0222 - val_loss: 0.0053\n",
      "Epoch 12/100\n",
      "17/17 [==============================] - 0s 6ms/step - loss: 0.0221 - val_loss: 0.0055\n",
      "Epoch 13/100\n",
      "17/17 [==============================] - 0s 7ms/step - loss: 0.0217 - val_loss: 0.0054\n",
      "Epoch 14/100\n",
      "17/17 [==============================] - 0s 10ms/step - loss: 0.0219 - val_loss: 0.0058021\n",
      "Epoch 15/100\n",
      "17/17 [==============================] - 0s 8ms/step - loss: 0.0221 - val_loss: 0.0058\n",
      "Epoch 16/100\n",
      "17/17 [==============================] - 0s 6ms/step - loss: 0.0234 - val_loss: 0.0071\n",
      "Epoch 17/100\n",
      "17/17 [==============================] - 0s 7ms/step - loss: 0.0239 - val_loss: 0.0071\n",
      "Epoch 18/100\n",
      "17/17 [==============================] - 0s 6ms/step - loss: 0.0276 - val_loss: 0.0077\n",
      "Epoch 19/100\n",
      "17/17 [==============================] - 0s 6ms/step - loss: 0.0260 - val_loss: 0.0061\n",
      "Epoch 20/100\n",
      "17/17 [==============================] - 0s 6ms/step - loss: 0.0272 - val_loss: 0.0058\n",
      "Epoch 21/100\n",
      "17/17 [==============================] - 0s 7ms/step - loss: 0.0229 - val_loss: 0.0055\n",
      "Epoch 22/100\n",
      "17/17 [==============================] - 0s 10ms/step - loss: 0.0222 - val_loss: 0.0056\n",
      "Epoch 23/100\n",
      "17/17 [==============================] - 0s 8ms/step - loss: 0.0216 - val_loss: 0.0056\n",
      "Epoch 24/100\n",
      "17/17 [==============================] - 0s 7ms/step - loss: 0.0215 - val_loss: 0.0056\n",
      "Epoch 25/100\n",
      "17/17 [==============================] - 0s 7ms/step - loss: 0.0213 - val_loss: 0.0056\n",
      "Epoch 26/100\n",
      "17/17 [==============================] - 0s 7ms/step - loss: 0.0216 - val_loss: 0.0056\n",
      "Epoch 27/100\n",
      "17/17 [==============================] - 0s 6ms/step - loss: 0.0215 - val_loss: 0.0055\n",
      "Epoch 28/100\n",
      "17/17 [==============================] - 0s 7ms/step - loss: 0.0215 - val_loss: 0.0056\n",
      "Epoch 29/100\n",
      "17/17 [==============================] - 0s 7ms/step - loss: 0.0214 - val_loss: 0.0056\n",
      "Epoch 30/100\n",
      "17/17 [==============================] - 0s 6ms/step - loss: 0.0214 - val_loss: 0.0057\n",
      "Epoch 31/100\n",
      "17/17 [==============================] - 0s 6ms/step - loss: 0.0213 - val_loss: 0.0056\n",
      "Epoch 32/100\n",
      "17/17 [==============================] - 0s 6ms/step - loss: 0.0211 - val_loss: 0.0058\n",
      "Epoch 33/100\n",
      "17/17 [==============================] - 0s 6ms/step - loss: 0.0215 - val_loss: 0.0056\n",
      "Epoch 34/100\n",
      "17/17 [==============================] - 0s 7ms/step - loss: 0.0218 - val_loss: 0.0059\n",
      "Epoch 35/100\n",
      "17/17 [==============================] - 0s 6ms/step - loss: 0.0213 - val_loss: 0.0056\n",
      "Epoch 36/100\n",
      "17/17 [==============================] - 0s 6ms/step - loss: 0.0217 - val_loss: 0.0062\n",
      "Epoch 37/100\n",
      "17/17 [==============================] - 0s 6ms/step - loss: 0.0214 - val_loss: 0.0057\n",
      "Epoch 38/100\n",
      "17/17 [==============================] - 0s 6ms/step - loss: 0.0222 - val_loss: 0.0065\n",
      "Epoch 39/100\n",
      "17/17 [==============================] - 0s 6ms/step - loss: 0.0221 - val_loss: 0.0059\n",
      "Epoch 40/100\n",
      "17/17 [==============================] - 0s 6ms/step - loss: 0.0232 - val_loss: 0.0068\n",
      "Epoch 41/100\n",
      "17/17 [==============================] - 0s 6ms/step - loss: 0.0226 - val_loss: 0.0058\n",
      "Epoch 42/100\n",
      "17/17 [==============================] - 0s 6ms/step - loss: 0.0233 - val_loss: 0.0064\n",
      "Epoch 43/100\n",
      "17/17 [==============================] - 0s 6ms/step - loss: 0.0222 - val_loss: 0.0056\n",
      "Epoch 44/100\n",
      "17/17 [==============================] - 0s 6ms/step - loss: 0.0223 - val_loss: 0.0061\n",
      "Epoch 45/100\n",
      "17/17 [==============================] - 0s 6ms/step - loss: 0.0213 - val_loss: 0.0056\n",
      "Epoch 46/100\n",
      "17/17 [==============================] - 0s 6ms/step - loss: 0.0217 - val_loss: 0.0060\n",
      "Epoch 47/100\n",
      "17/17 [==============================] - 0s 6ms/step - loss: 0.0216 - val_loss: 0.0056\n",
      "Epoch 48/100\n",
      "17/17 [==============================] - 0s 6ms/step - loss: 0.0215 - val_loss: 0.0060\n",
      "Epoch 49/100\n",
      "17/17 [==============================] - 0s 6ms/step - loss: 0.0213 - val_loss: 0.0056\n",
      "Epoch 50/100\n",
      "17/17 [==============================] - 0s 6ms/step - loss: 0.0211 - val_loss: 0.0061\n",
      "Epoch 51/100\n",
      "17/17 [==============================] - 0s 6ms/step - loss: 0.0211 - val_loss: 0.0057\n",
      "Epoch 52/100\n",
      "17/17 [==============================] - 0s 6ms/step - loss: 0.0213 - val_loss: 0.0061\n",
      "Epoch 53/100\n",
      "17/17 [==============================] - 0s 6ms/step - loss: 0.0214 - val_loss: 0.0057\n",
      "Epoch 54/100\n",
      "17/17 [==============================] - 0s 6ms/step - loss: 0.0213 - val_loss: 0.0062\n",
      "Epoch 55/100\n",
      "17/17 [==============================] - 0s 6ms/step - loss: 0.0213 - val_loss: 0.0057\n",
      "Epoch 56/100\n",
      "17/17 [==============================] - 0s 6ms/step - loss: 0.0217 - val_loss: 0.0064\n",
      "Epoch 57/100\n",
      "17/17 [==============================] - 0s 6ms/step - loss: 0.0211 - val_loss: 0.0057\n",
      "Epoch 58/100\n",
      "17/17 [==============================] - 0s 6ms/step - loss: 0.0219 - val_loss: 0.0064\n",
      "Epoch 59/100\n",
      "17/17 [==============================] - 0s 6ms/step - loss: 0.0217 - val_loss: 0.0057\n",
      "Epoch 60/100\n",
      "17/17 [==============================] - 0s 6ms/step - loss: 0.0220 - val_loss: 0.0066\n",
      "Epoch 61/100\n",
      "17/17 [==============================] - 0s 6ms/step - loss: 0.0216 - val_loss: 0.0057\n",
      "Epoch 62/100\n",
      "17/17 [==============================] - 0s 6ms/step - loss: 0.0223 - val_loss: 0.0065\n",
      "Epoch 63/100\n",
      "17/17 [==============================] - 0s 6ms/step - loss: 0.0216 - val_loss: 0.0057\n",
      "Epoch 64/100\n",
      "17/17 [==============================] - 0s 6ms/step - loss: 0.0217 - val_loss: 0.0064\n",
      "Epoch 65/100\n",
      "17/17 [==============================] - 0s 6ms/step - loss: 0.0216 - val_loss: 0.0057\n",
      "Epoch 66/100\n",
      "17/17 [==============================] - 0s 6ms/step - loss: 0.0217 - val_loss: 0.0063\n",
      "Epoch 67/100\n",
      "17/17 [==============================] - 0s 6ms/step - loss: 0.0211 - val_loss: 0.0057\n",
      "Epoch 68/100\n",
      "17/17 [==============================] - 0s 6ms/step - loss: 0.0215 - val_loss: 0.0063\n",
      "Epoch 69/100\n",
      "17/17 [==============================] - 0s 6ms/step - loss: 0.0211 - val_loss: 0.0057\n",
      "Epoch 70/100\n",
      "17/17 [==============================] - 0s 6ms/step - loss: 0.0214 - val_loss: 0.0063\n",
      "Epoch 71/100\n",
      "17/17 [==============================] - 0s 6ms/step - loss: 0.0207 - val_loss: 0.0057\n",
      "Epoch 72/100\n",
      "17/17 [==============================] - 0s 6ms/step - loss: 0.0210 - val_loss: 0.0063\n",
      "Epoch 73/100\n",
      "17/17 [==============================] - 0s 6ms/step - loss: 0.0212 - val_loss: 0.0058\n",
      "Epoch 74/100\n",
      "17/17 [==============================] - 0s 6ms/step - loss: 0.0214 - val_loss: 0.0066\n",
      "Epoch 75/100\n",
      "17/17 [==============================] - 0s 6ms/step - loss: 0.0210 - val_loss: 0.0058\n",
      "Epoch 76/100\n",
      "17/17 [==============================] - 0s 6ms/step - loss: 0.0215 - val_loss: 0.0067\n",
      "Epoch 77/100\n",
      "17/17 [==============================] - 0s 6ms/step - loss: 0.0215 - val_loss: 0.0058\n",
      "Epoch 78/100\n",
      "17/17 [==============================] - 0s 6ms/step - loss: 0.0218 - val_loss: 0.0068\n",
      "Epoch 79/100\n",
      "17/17 [==============================] - 0s 7ms/step - loss: 0.0216 - val_loss: 0.0058\n",
      "Epoch 80/100\n",
      "17/17 [==============================] - 0s 6ms/step - loss: 0.0216 - val_loss: 0.0066\n",
      "Epoch 81/100\n",
      "17/17 [==============================] - 0s 6ms/step - loss: 0.0213 - val_loss: 0.0057\n",
      "Epoch 82/100\n",
      "17/17 [==============================] - 0s 6ms/step - loss: 0.0215 - val_loss: 0.0065\n"
     ]
    },
    {
     "name": "stdout",
     "output_type": "stream",
     "text": [
      "Epoch 83/100\n",
      "17/17 [==============================] - 0s 6ms/step - loss: 0.0211 - val_loss: 0.0057\n",
      "Epoch 84/100\n",
      "17/17 [==============================] - 0s 6ms/step - loss: 0.0211 - val_loss: 0.0065\n",
      "Epoch 85/100\n",
      "17/17 [==============================] - 0s 6ms/step - loss: 0.0207 - val_loss: 0.0058\n",
      "Epoch 86/100\n",
      "17/17 [==============================] - 0s 6ms/step - loss: 0.0211 - val_loss: 0.0066\n",
      "Epoch 87/100\n",
      "17/17 [==============================] - 0s 6ms/step - loss: 0.0208 - val_loss: 0.0058\n",
      "Epoch 88/100\n",
      "17/17 [==============================] - 0s 6ms/step - loss: 0.0213 - val_loss: 0.0066\n",
      "Epoch 89/100\n",
      "17/17 [==============================] - 0s 6ms/step - loss: 0.0202 - val_loss: 0.0058\n",
      "Epoch 90/100\n",
      "17/17 [==============================] - 0s 6ms/step - loss: 0.0210 - val_loss: 0.0067\n",
      "Epoch 91/100\n",
      "17/17 [==============================] - 0s 6ms/step - loss: 0.0205 - val_loss: 0.0059\n",
      "Epoch 92/100\n",
      "17/17 [==============================] - 0s 6ms/step - loss: 0.0208 - val_loss: 0.0067\n",
      "Epoch 93/100\n",
      "17/17 [==============================] - 0s 6ms/step - loss: 0.0208 - val_loss: 0.0059\n",
      "Epoch 94/100\n",
      "17/17 [==============================] - 0s 6ms/step - loss: 0.0209 - val_loss: 0.0069\n",
      "Epoch 95/100\n",
      "17/17 [==============================] - 0s 6ms/step - loss: 0.0207 - val_loss: 0.0059\n",
      "Epoch 96/100\n",
      "17/17 [==============================] - 0s 6ms/step - loss: 0.0210 - val_loss: 0.0069\n",
      "Epoch 97/100\n",
      "17/17 [==============================] - 0s 6ms/step - loss: 0.0206 - val_loss: 0.0060\n",
      "Epoch 98/100\n",
      "17/17 [==============================] - 0s 6ms/step - loss: 0.0211 - val_loss: 0.0071\n",
      "Epoch 99/100\n",
      "17/17 [==============================] - 0s 6ms/step - loss: 0.0206 - val_loss: 0.0060\n",
      "Epoch 100/100\n",
      "17/17 [==============================] - 0s 6ms/step - loss: 0.0211 - val_loss: 0.0070\n",
      "Model: \"sequential\"\n",
      "_________________________________________________________________\n",
      "Layer (type)                 Output Shape              Param #   \n",
      "=================================================================\n",
      "lstm (LSTM)                  (None, 100)               52400     \n",
      "_________________________________________________________________\n",
      "dropout (Dropout)            (None, 100)               0         \n",
      "_________________________________________________________________\n",
      "dense (Dense)                (None, 1)                 101       \n",
      "=================================================================\n",
      "Total params: 52,501\n",
      "Trainable params: 52,501\n",
      "Non-trainable params: 0\n",
      "_________________________________________________________________\n"
     ]
    }
   ],
   "source": [
    "model = Sequential()\n",
    "model.add(LSTM(100,input_shape=(X_train.shape[1], X_train.shape[2])))\n",
    "model.add(Dropout(0.2))\n",
    "model.add(Dense(1))\n",
    "model.compile(loss='mean_squared_error', optimizer='adam')\n",
    "\n",
    "history = model.fit(X_train, Y_train, epochs=100, batch_size=70, validation_data=(X_test, Y_test), verbose=1, shuffle=False)\n",
    "\n",
    "model.summary()"
   ]
  },
  {
   "cell_type": "code",
   "execution_count": 7,
   "metadata": {},
   "outputs": [
    {
     "name": "stdout",
     "output_type": "stream",
     "text": [
      "0.0\n",
      "1177 [ 5.003583   2.2420483  4.5866637 ...  7.400551  15.332585   9.230573 ]\n"
     ]
    }
   ],
   "source": [
    "train_predict = model.predict(X_train)\n",
    "test_predict = model.predict(X_test)\n",
    "# invert predictions\n",
    "train_predict = scaler.inverse_transform(train_predict)\n",
    "print(Y_train[0])\n",
    "print(len(train_predict[:,0]),train_predict[:,0])\n",
    "Y_train = scaler.inverse_transform([Y_train])\n",
    "test_predict = scaler.inverse_transform(test_predict)\n",
    "Y_test = scaler.inverse_transform([Y_test])\n",
    "trainError = mean_absolute_error(Y_train[0], train_predict[:,0])\n",
    "testError = mean_absolute_error(Y_test[0], test_predict[:,0])\n",
    "#print(trainError**0.5)\n",
    "#print(testError**0.5)\n"
   ]
  },
  {
   "cell_type": "code",
   "execution_count": 8,
   "metadata": {},
   "outputs": [
    {
     "name": "stdout",
     "output_type": "stream",
     "text": [
      "2.9982808111207717\n",
      "2.4540549954054156\n"
     ]
    }
   ],
   "source": [
    "print(trainError**0.5)\n",
    "print(testError**0.5)"
   ]
  },
  {
   "cell_type": "code",
   "execution_count": 9,
   "metadata": {},
   "outputs": [],
   "source": [
    "trueLabels=assignLabels(Y_test[0])\n",
    "predLabels=assignLabels(test_predict[:,0])"
   ]
  },
  {
   "cell_type": "code",
   "execution_count": 10,
   "metadata": {},
   "outputs": [
    {
     "name": "stdout",
     "output_type": "stream",
     "text": [
      "Overall accuracy: 87.09016393442623 %\n"
     ]
    }
   ],
   "source": [
    "from sklearn.metrics import confusion_matrix\n",
    "conf_mat = confusion_matrix(trueLabels,predLabels)\n",
    "acc = np.sum(conf_mat.diagonal()) / np.sum(conf_mat)\n",
    "print('Overall accuracy: {} %'.format(acc*100))"
   ]
  },
  {
   "cell_type": "code",
   "execution_count": 11,
   "metadata": {},
   "outputs": [
    {
     "name": "stderr",
     "output_type": "stream",
     "text": [
      "No handles with labels found to put in legend.\n"
     ]
    },
    {
     "data": {
      "image/png": "[encoded data removed]",
      "text/plain": [
       "<Figure size 432x288 with 1 Axes>"
      ]
     },
     "metadata": {
      "needs_background": "light"
     },
     "output_type": "display_data"
    }
   ],
   "source": [
    "from matplotlib import pyplot\n",
    "pyplot.xlabel('value')\n",
    "pyplot.ylabel('cpu utilization')\n",
    "pyplot.title('For planetlab02 dataset(True vs Predicted values)')\n",
    "pyplot.plot(Y_test[0],color='blue')\n",
    "pyplot.plot(test_predict, color='red')\n",
    "pyplot.legend()\n",
    "pyplot.show()"
   ]
  },
  {
   "cell_type": "code",
   "execution_count": 12,
   "metadata": {},
   "outputs": [
    {
     "data": {
      "text/plain": [
       "[<matplotlib.lines.Line2D at 0x22c889b9708>]"
      ]
     },
     "execution_count": 12,
     "metadata": {},
     "output_type": "execute_result"
    },
    {
     "data": {
      "image/png": "[encoded data removed]",
      "text/plain": [
       "<Figure size 432x288 with 1 Axes>"
      ]
     },
     "metadata": {
      "needs_background": "light"
     },
     "output_type": "display_data"
    }
   ],
   "source": [
    "pyplot.plot(Y_test[0],color='blue')"
   ]
  }
 ],
 "metadata": {
  "kernelspec": {
   "display_name": "Python 3",
   "language": "python",
   "name": "python3"
  },
  "language_info": {
   "codemirror_mode": {
    "name": "ipython",
    "version": 3
   },
   "file_extension": ".py",
   "mimetype": "text/x-python",
   "name": "python",
   "nbconvert_exporter": "python",
   "pygments_lexer": "ipython3",
   "version": "3.7.9"
  }
 },
 "nbformat": 4,
 "nbformat_minor": 2
}

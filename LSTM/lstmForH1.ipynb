{
 "cells": [
  {
   "cell_type": "code",
   "execution_count": 1,
   "metadata": {},
   "outputs": [],
   "source": [
    "import math\n",
    "import pandas as pd\n",
    "import numpy as np\n",
    "from tensorflow.keras.models import Sequential\n",
    "from tensorflow.keras.layers import Dense\n",
    "from tensorflow.keras.layers import LSTM\n",
    "from tensorflow.keras.layers import Dropout\n",
    "from tensorflow.keras.layers import *\n",
    "from sklearn.preprocessing import MinMaxScaler\n",
    "from sklearn.metrics import mean_squared_error\n",
    "from sklearn.metrics import mean_absolute_error"
   ]
  },
  {
   "cell_type": "code",
   "execution_count": 2,
   "metadata": {},
   "outputs": [],
   "source": [
    "def assignLabels(values):\n",
    "    label=[]\n",
    "    for i in (values):\n",
    "        if i<25:\n",
    "            label.append('u')\n",
    "        elif i>75:\n",
    "             label.append('o')\n",
    "        else:\n",
    "             label.append('n')\n",
    "    return label"
   ]
  },
  {
   "cell_type": "code",
   "execution_count": 3,
   "metadata": {},
   "outputs": [],
   "source": [
    "df = pd.read_csv(\"h1.csv\")\n",
    "dataset = df[df.columns[[4]]].values #numpy.ndarray\n",
    "dataset = dataset.astype('float32')\n",
    "dataset = np.reshape(dataset, (-1, 1))\n",
    "scaler = MinMaxScaler(feature_range=(0, 1))\n",
    "dataset = scaler.fit_transform(dataset)\n",
    "train_size = int(len(dataset) * 0.80)\n",
    "test_size = len(dataset) - train_size\n",
    "train, test = dataset[0:train_size,:], dataset[train_size:len(dataset),:]\n",
    "\n",
    "def create_dataset(dataset, look_back=1):\n",
    "    X, Y = [], []\n",
    "    for i in range(len(dataset)-look_back-1):\n",
    "        a = dataset[i:(i+look_back), 0]\n",
    "        X.append(a)\n",
    "        Y.append(dataset[i + look_back, 0])\n",
    "    return np.array(X), np.array(Y)\n",
    "    \n",
    "look_back = 30\n",
    "X_train, Y_train = create_dataset(train, look_back)\n",
    "X_test, Y_test = create_dataset(test, look_back)\n",
    "\n",
    "# reshape input to be [samples, time steps, features]\n",
    "X_train = np.reshape(X_train, (X_train.shape[0], 1, X_train.shape[1]))\n",
    "X_test = np.reshape(X_test, (X_test.shape[0], 1, X_test.shape[1]))"
   ]
  },
  {
   "cell_type": "code",
   "execution_count": 4,
   "metadata": {},
   "outputs": [
    {
     "name": "stdout",
     "output_type": "stream",
     "text": [
      "Epoch 1/100\n",
      "99/99 [==============================] - 1s 12ms/step - loss: 0.0198 - val_loss: 0.0442\n",
      "Epoch 2/100\n",
      "99/99 [==============================] - 0s 4ms/step - loss: 0.0115 - val_loss: 0.0281\n",
      "Epoch 3/100\n",
      "99/99 [==============================] - 0s 4ms/step - loss: 0.0083 - val_loss: 0.0412\n",
      "Epoch 4/100\n",
      "99/99 [==============================] - 0s 4ms/step - loss: 0.0094 - val_loss: 0.0689\n",
      "Epoch 5/100\n",
      "99/99 [==============================] - 0s 4ms/step - loss: 0.0112 - val_loss: 0.0830\n",
      "Epoch 6/100\n",
      "99/99 [==============================] - 0s 4ms/step - loss: 0.0158 - val_loss: 0.0265\n",
      "Epoch 7/100\n",
      "99/99 [==============================] - 0s 4ms/step - loss: 0.0064 - val_loss: 0.0310\n",
      "Epoch 8/100\n",
      "99/99 [==============================] - 0s 3ms/step - loss: 0.0074 - val_loss: 0.0255\n",
      "Epoch 9/100\n",
      "99/99 [==============================] - 0s 3ms/step - loss: 0.0062 - val_loss: 0.0323\n",
      "Epoch 10/100\n",
      "99/99 [==============================] - 0s 4ms/step - loss: 0.0077 - val_loss: 0.0200\n",
      "Epoch 11/100\n",
      "99/99 [==============================] - 0s 4ms/step - loss: 0.0052 - val_loss: 0.0191\n",
      "Epoch 12/100\n",
      "99/99 [==============================] - 0s 4ms/step - loss: 0.0051 - val_loss: 0.0142\n",
      "Epoch 13/100\n",
      "99/99 [==============================] - 0s 4ms/step - loss: 0.0039 - val_loss: 0.0144\n",
      "Epoch 14/100\n",
      "99/99 [==============================] - 0s 4ms/step - loss: 0.0043 - val_loss: 0.0137\n",
      "Epoch 15/100\n",
      "99/99 [==============================] - 0s 4ms/step - loss: 0.0039 - val_loss: 0.0163\n",
      "Epoch 16/100\n",
      "99/99 [==============================] - 0s 4ms/step - loss: 0.0046 - val_loss: 0.0164\n",
      "Epoch 17/100\n",
      "99/99 [==============================] - 0s 4ms/step - loss: 0.0039 - val_loss: 0.0203\n",
      "Epoch 18/100\n",
      "99/99 [==============================] - 0s 4ms/step - loss: 0.0051 - val_loss: 0.0137\n",
      "Epoch 19/100\n",
      "99/99 [==============================] - 0s 4ms/step - loss: 0.0033 - val_loss: 0.0145\n",
      "Epoch 20/100\n",
      "99/99 [==============================] - 0s 4ms/step - loss: 0.0038 - val_loss: 0.0178\n",
      "Epoch 21/100\n",
      "99/99 [==============================] - 0s 4ms/step - loss: 0.0042 - val_loss: 0.0328\n",
      "Epoch 22/100\n",
      "99/99 [==============================] - 0s 4ms/step - loss: 0.0073 - val_loss: 0.0271\n",
      "Epoch 23/100\n",
      "99/99 [==============================] - 0s 4ms/step - loss: 0.0049 - val_loss: 0.0302\n",
      "Epoch 24/100\n",
      "99/99 [==============================] - 0s 4ms/step - loss: 0.0067 - val_loss: 0.0126\n",
      "Epoch 25/100\n",
      "99/99 [==============================] - 0s 4ms/step - loss: 0.0031 - val_loss: 0.0130\n",
      "Epoch 26/100\n",
      "99/99 [==============================] - 0s 4ms/step - loss: 0.0033 - val_loss: 0.0112\n",
      "Epoch 27/100\n",
      "99/99 [==============================] - 0s 4ms/step - loss: 0.0030 - val_loss: 0.0119\n",
      "Epoch 28/100\n",
      "99/99 [==============================] - 0s 4ms/step - loss: 0.0030 - val_loss: 0.0118\n",
      "Epoch 29/100\n",
      "99/99 [==============================] - 0s 4ms/step - loss: 0.0029 - val_loss: 0.0136\n",
      "Epoch 30/100\n",
      "99/99 [==============================] - 0s 4ms/step - loss: 0.0037 - val_loss: 0.0137\n",
      "Epoch 31/100\n",
      "99/99 [==============================] - 0s 4ms/step - loss: 0.0032 - val_loss: 0.0181\n",
      "Epoch 32/100\n",
      "99/99 [==============================] - 0s 4ms/step - loss: 0.0044 - val_loss: 0.0188\n",
      "Epoch 33/100\n",
      "99/99 [==============================] - 0s 4ms/step - loss: 0.0037 - val_loss: 0.0242\n",
      "Epoch 34/100\n",
      "99/99 [==============================] - 0s 4ms/step - loss: 0.0053 - val_loss: 0.0159\n",
      "Epoch 35/100\n",
      "99/99 [==============================] - 0s 4ms/step - loss: 0.0033 - val_loss: 0.0194\n",
      "Epoch 36/100\n",
      "99/99 [==============================] - 0s 4ms/step - loss: 0.0046 - val_loss: 0.0145\n",
      "Epoch 37/100\n",
      "99/99 [==============================] - 0s 4ms/step - loss: 0.0030 - val_loss: 0.0178\n",
      "Epoch 38/100\n",
      "99/99 [==============================] - 0s 4ms/step - loss: 0.0040 - val_loss: 0.0150\n",
      "Epoch 39/100\n",
      "99/99 [==============================] - 0s 4ms/step - loss: 0.0034 - val_loss: 0.0209\n",
      "Epoch 40/100\n",
      "99/99 [==============================] - 0s 4ms/step - loss: 0.0047 - val_loss: 0.0149\n",
      "Epoch 41/100\n",
      "99/99 [==============================] - 0s 4ms/step - loss: 0.0032 - val_loss: 0.0192\n",
      "Epoch 42/100\n",
      "99/99 [==============================] - 0s 4ms/step - loss: 0.0043 - val_loss: 0.0140\n",
      "Epoch 43/100\n",
      "99/99 [==============================] - 0s 4ms/step - loss: 0.0030 - val_loss: 0.0176\n",
      "Epoch 44/100\n",
      "99/99 [==============================] - 0s 4ms/step - loss: 0.0041 - val_loss: 0.0130\n",
      "Epoch 45/100\n",
      "99/99 [==============================] - 0s 4ms/step - loss: 0.0029 - val_loss: 0.0141\n",
      "Epoch 46/100\n",
      "99/99 [==============================] - 0s 4ms/step - loss: 0.0032 - val_loss: 0.0135\n",
      "Epoch 47/100\n",
      "99/99 [==============================] - 0s 4ms/step - loss: 0.0031 - val_loss: 0.0178\n",
      "Epoch 48/100\n",
      "99/99 [==============================] - 0s 4ms/step - loss: 0.0043 - val_loss: 0.0160\n",
      "Epoch 49/100\n",
      "99/99 [==============================] - 0s 4ms/step - loss: 0.0032 - val_loss: 0.0187\n",
      "Epoch 50/100\n",
      "99/99 [==============================] - 0s 4ms/step - loss: 0.0043 - val_loss: 0.0151.01\n",
      "Epoch 51/100\n",
      "99/99 [==============================] - 0s 4ms/step - loss: 0.0029 - val_loss: 0.0180\n",
      "Epoch 52/100\n",
      "99/99 [==============================] - 0s 4ms/step - loss: 0.0040 - val_loss: 0.0144\n",
      "Epoch 53/100\n",
      "99/99 [==============================] - 0s 4ms/step - loss: 0.0028 - val_loss: 0.0169\n",
      "Epoch 54/100\n",
      "99/99 [==============================] - 0s 4ms/step - loss: 0.0037 - val_loss: 0.0148\n",
      "Epoch 55/100\n",
      "99/99 [==============================] - 0s 4ms/step - loss: 0.0030 - val_loss: 0.0197\n",
      "Epoch 56/100\n",
      "99/99 [==============================] - 0s 4ms/step - loss: 0.0044 - val_loss: 0.0146\n",
      "Epoch 57/100\n",
      "99/99 [==============================] - 0s 4ms/step - loss: 0.0029 - val_loss: 0.0173\n",
      "Epoch 58/100\n",
      "99/99 [==============================] - 0s 4ms/step - loss: 0.0038 - val_loss: 0.0141\n",
      "Epoch 59/100\n",
      "99/99 [==============================] - 0s 4ms/step - loss: 0.0030 - val_loss: 0.0186\n",
      "Epoch 60/100\n",
      "99/99 [==============================] - 0s 4ms/step - loss: 0.0039 - val_loss: 0.0146\n",
      "Epoch 61/100\n",
      "99/99 [==============================] - 0s 4ms/step - loss: 0.0028 - val_loss: 0.0176\n",
      "Epoch 62/100\n",
      "99/99 [==============================] - 0s 4ms/step - loss: 0.0039 - val_loss: 0.0143\n",
      "Epoch 63/100\n",
      "99/99 [==============================] - 0s 3ms/step - loss: 0.0029 - val_loss: 0.0174\n",
      "Epoch 64/100\n",
      "99/99 [==============================] - 0s 3ms/step - loss: 0.0036 - val_loss: 0.0146\n",
      "Epoch 65/100\n",
      "99/99 [==============================] - 0s 4ms/step - loss: 0.0028 - val_loss: 0.0184\n",
      "Epoch 66/100\n",
      "99/99 [==============================] - 0s 4ms/step - loss: 0.0041 - val_loss: 0.0139\n",
      "Epoch 67/100\n",
      "99/99 [==============================] - 0s 3ms/step - loss: 0.0027 - val_loss: 0.0160\n",
      "Epoch 68/100\n",
      "99/99 [==============================] - 0s 4ms/step - loss: 0.0033 - val_loss: 0.0130\n",
      "Epoch 69/100\n",
      "99/99 [==============================] - 0s 4ms/step - loss: 0.0027 - val_loss: 0.0164\n",
      "Epoch 70/100\n",
      "99/99 [==============================] - 0s 4ms/step - loss: 0.0035 - val_loss: 0.0151\n",
      "Epoch 71/100\n",
      "99/99 [==============================] - 0s 4ms/step - loss: 0.0030 - val_loss: 0.0195\n",
      "Epoch 72/100\n",
      "99/99 [==============================] - 0s 4ms/step - loss: 0.0041 - val_loss: 0.0137\n",
      "Epoch 73/100\n",
      "99/99 [==============================] - 0s 4ms/step - loss: 0.0026 - val_loss: 0.0156\n",
      "Epoch 74/100\n",
      "99/99 [==============================] - 0s 4ms/step - loss: 0.0035 - val_loss: 0.0139\n",
      "Epoch 75/100\n",
      "99/99 [==============================] - 0s 4ms/step - loss: 0.0027 - val_loss: 0.0163\n",
      "Epoch 76/100\n",
      "99/99 [==============================] - 0s 4ms/step - loss: 0.0036 - val_loss: 0.0139\n",
      "Epoch 77/100\n",
      "99/99 [==============================] - 0s 4ms/step - loss: 0.0026 - val_loss: 0.0161\n",
      "Epoch 78/100\n",
      "99/99 [==============================] - 0s 4ms/step - loss: 0.0035 - val_loss: 0.0142\n",
      "Epoch 79/100\n",
      "99/99 [==============================] - 0s 4ms/step - loss: 0.0029 - val_loss: 0.0189\n",
      "Epoch 80/100\n",
      "99/99 [==============================] - 0s 4ms/step - loss: 0.0041 - val_loss: 0.0144\n",
      "Epoch 81/100\n",
      "99/99 [==============================] - 0s 4ms/step - loss: 0.0026 - val_loss: 0.0166\n",
      "Epoch 82/100\n",
      "99/99 [==============================] - 0s 4ms/step - loss: 0.0036 - val_loss: 0.0144\n"
     ]
    },
    {
     "name": "stdout",
     "output_type": "stream",
     "text": [
      "Epoch 83/100\n",
      "99/99 [==============================] - 0s 4ms/step - loss: 0.0025 - val_loss: 0.0169\n",
      "Epoch 84/100\n",
      "99/99 [==============================] - 0s 4ms/step - loss: 0.0036 - val_loss: 0.0131\n",
      "Epoch 85/100\n",
      "99/99 [==============================] - 0s 4ms/step - loss: 0.0024 - val_loss: 0.0145\n",
      "Epoch 86/100\n",
      "99/99 [==============================] - 0s 4ms/step - loss: 0.0032 - val_loss: 0.0135\n",
      "Epoch 87/100\n",
      "99/99 [==============================] - 0s 4ms/step - loss: 0.0026 - val_loss: 0.0151\n",
      "Epoch 88/100\n",
      "99/99 [==============================] - 0s 4ms/step - loss: 0.0034 - val_loss: 0.0130\n",
      "Epoch 89/100\n",
      "99/99 [==============================] - 0s 4ms/step - loss: 0.0025 - val_loss: 0.0153\n",
      "Epoch 90/100\n",
      "99/99 [==============================] - 0s 4ms/step - loss: 0.0033 - val_loss: 0.0132\n",
      "Epoch 91/100\n",
      "99/99 [==============================] - 0s 4ms/step - loss: 0.0026 - val_loss: 0.0173\n",
      "Epoch 92/100\n",
      "99/99 [==============================] - 0s 4ms/step - loss: 0.0035 - val_loss: 0.0134\n",
      "Epoch 93/100\n",
      "99/99 [==============================] - 0s 4ms/step - loss: 0.0024 - val_loss: 0.0142\n",
      "Epoch 94/100\n",
      "99/99 [==============================] - 0s 4ms/step - loss: 0.0030 - val_loss: 0.0122\n",
      "Epoch 95/100\n",
      "99/99 [==============================] - 0s 4ms/step - loss: 0.0023 - val_loss: 0.0135\n",
      "Epoch 96/100\n",
      "99/99 [==============================] - 0s 4ms/step - loss: 0.0028 - val_loss: 0.0121\n",
      "Epoch 97/100\n",
      "99/99 [==============================] - 0s 4ms/step - loss: 0.0025 - val_loss: 0.0159\n",
      "Epoch 98/100\n",
      "99/99 [==============================] - 0s 4ms/step - loss: 0.0033 - val_loss: 0.0139\n",
      "Epoch 99/100\n",
      "99/99 [==============================] - 0s 5ms/step - loss: 0.0025 - val_loss: 0.0176\n",
      "Epoch 100/100\n",
      "99/99 [==============================] - 0s 4ms/step - loss: 0.0037 - val_loss: 0.0135\n",
      "Model: \"sequential\"\n",
      "_________________________________________________________________\n",
      "Layer (type)                 Output Shape              Param #   \n",
      "=================================================================\n",
      "lstm (LSTM)                  (None, 100)               52400     \n",
      "_________________________________________________________________\n",
      "dropout (Dropout)            (None, 100)               0         \n",
      "_________________________________________________________________\n",
      "dense (Dense)                (None, 1)                 101       \n",
      "=================================================================\n",
      "Total params: 52,501\n",
      "Trainable params: 52,501\n",
      "Non-trainable params: 0\n",
      "_________________________________________________________________\n"
     ]
    }
   ],
   "source": [
    "model = Sequential()\n",
    "model.add(LSTM(100,activation='relu',input_shape=(X_train.shape[1], X_train.shape[2])))\n",
    "model.add(Dropout(0.2))\n",
    "model.add(Dense(1))\n",
    "model.compile(loss='mean_squared_error', optimizer='adam')\n",
    "\n",
    "history = model.fit(X_train, Y_train, epochs=100, batch_size=70, validation_data=(X_test, Y_test), verbose=1, shuffle=False)\n",
    "\n",
    "model.summary()"
   ]
  },
  {
   "cell_type": "code",
   "execution_count": 5,
   "metadata": {},
   "outputs": [],
   "source": [
    "train_predict = model.predict(X_train)\n",
    "test_predict = model.predict(X_test)\n",
    "# invert predictions\n",
    "train_predict = scaler.inverse_transform(train_predict)\n",
    "Y_train = scaler.inverse_transform([Y_train])\n",
    "test_predict = scaler.inverse_transform(test_predict)\n",
    "Y_test = scaler.inverse_transform([Y_test])\n",
    "trainError = mean_absolute_error(Y_train[0], train_predict[:,0])\n",
    "testError = mean_absolute_error(Y_test[0], test_predict[:,0])\n",
    "#print(trainError**0.5)\n",
    "#print(testError**0.5)\n"
   ]
  },
  {
   "cell_type": "code",
   "execution_count": 6,
   "metadata": {},
   "outputs": [
    {
     "name": "stdout",
     "output_type": "stream",
     "text": [
      "1.1257179018278318\n",
      "1.992212421062631\n"
     ]
    }
   ],
   "source": [
    "print(trainError**0.5)\n",
    "print(testError**0.5)"
   ]
  },
  {
   "cell_type": "code",
   "execution_count": 7,
   "metadata": {},
   "outputs": [],
   "source": [
    "trueLabels=assignLabels(Y_test[0])\n",
    "predLabels=assignLabels(test_predict[:,0])"
   ]
  },
  {
   "cell_type": "code",
   "execution_count": 8,
   "metadata": {},
   "outputs": [
    {
     "name": "stdout",
     "output_type": "stream",
     "text": [
      "Overall accuracy: 96.40330188679245 %\n"
     ]
    }
   ],
   "source": [
    "from sklearn.metrics import confusion_matrix\n",
    "conf_mat = confusion_matrix(trueLabels,predLabels)\n",
    "acc = np.sum(conf_mat.diagonal()) / np.sum(conf_mat)\n",
    "print('Overall accuracy: {} %'.format(acc*100))"
   ]
  },
  {
   "cell_type": "code",
   "execution_count": 9,
   "metadata": {},
   "outputs": [
    {
     "name": "stderr",
     "output_type": "stream",
     "text": [
      "No handles with labels found to put in legend.\n"
     ]
    },
    {
     "data": {
      "image/png": "[encoded data removed]",
      "text/plain": [
       "<Figure size 432x288 with 1 Axes>"
      ]
     },
     "metadata": {
      "needs_background": "light"
     },
     "output_type": "display_data"
    }
   ],
   "source": [
    "from matplotlib import pyplot\n",
    "pyplot.xlabel('value')\n",
    "pyplot.ylabel('cpu utilization')\n",
    "pyplot.title('For planetlab02 dataset(True vs Predicted values)')\n",
    "pyplot.plot(Y_test[0],color='blue')\n",
    "pyplot.plot(test_predict, color='red')\n",
    "pyplot.legend()\n",
    "pyplot.show()"
   ]
  },
  {
   "cell_type": "code",
   "execution_count": 10,
   "metadata": {},
   "outputs": [
    {
     "data": {
      "text/plain": [
       "[<matplotlib.lines.Line2D at 0x203da484988>]"
      ]
     },
     "execution_count": 10,
     "metadata": {},
     "output_type": "execute_result"
    },
    {
     "data": {
      "image/png": "[encoded data removed]",
      "text/plain": [
       "<Figure size 432x288 with 1 Axes>"
      ]
     },
     "metadata": {
      "needs_background": "light"
     },
     "output_type": "display_data"
    }
   ],
   "source": [
    "pyplot.plot(Y_test[0],color='blue')"
   ]
  }
 ],
 "metadata": {
  "kernelspec": {
   "display_name": "Python 3",
   "language": "python",
   "name": "python3"
  },
  "language_info": {
   "codemirror_mode": {
    "name": "ipython",
    "version": 3
   },
   "file_extension": ".py",
   "mimetype": "text/x-python",
   "name": "python",
   "nbconvert_exporter": "python",
   "pygments_lexer": "ipython3",
   "version": "3.7.9"
  }
 },
 "nbformat": 4,
 "nbformat_minor": 4
}

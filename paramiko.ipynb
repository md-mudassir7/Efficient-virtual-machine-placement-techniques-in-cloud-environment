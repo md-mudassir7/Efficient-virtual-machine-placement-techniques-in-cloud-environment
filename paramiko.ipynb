{
 "cells": [
  {
   "cell_type": "code",
   "execution_count": 26,
   "metadata": {},
   "outputs": [],
   "source": [
    "import paramiko\n",
    "def sshmaster(address,cmp):\n",
    "    mastervmhd1 = paramiko.SSHClient()\n",
    "    mastervmhd1.set_missing_host_key_policy(paramiko.AutoAddPolicy())\n",
    "    print(\"connecting\")\n",
    "    mastervmhd1.connect(address, \"22\", \"ubuntu\", \"root1234\",\"C:\\\\Users\\\\Mohammed Mudassir\\\\Downloads\\\\ins1key1.ppk\")\n",
    "    print(\"connected\")\n",
    "    stdin, stdout, stderr = mastervmhd1.exec_command(cmp,get_pty=True)\n",
    "    for line in iter(stdout.readline, \"\"):\n",
    "        std.append(line)\n",
    "    #std=stdout.readlines()\n",
    "    mastervmhd1.close()"
   ]
  },
  {
   "cell_type": "code",
   "execution_count": 27,
   "metadata": {},
   "outputs": [
    {
     "name": "stdout",
     "output_type": "stream",
     "text": [
      "connecting\n"
     ]
    },
    {
     "ename": "AttributeError",
     "evalue": "'str' object has no attribute 'get_fingerprint'",
     "output_type": "error",
     "traceback": [
      "\u001b[1;31m---------------------------------------------------------------------------\u001b[0m",
      "\u001b[1;31mAttributeError\u001b[0m                            Traceback (most recent call last)",
      "\u001b[1;32m<ipython-input-27-dfbc7d5e3deb>\u001b[0m in \u001b[0;36m<module>\u001b[1;34m\u001b[0m\n\u001b[0;32m      1\u001b[0m \u001b[0mstd\u001b[0m\u001b[1;33m=\u001b[0m\u001b[1;33m[\u001b[0m\u001b[1;33m]\u001b[0m\u001b[1;33m\u001b[0m\u001b[1;33m\u001b[0m\u001b[0m\n\u001b[1;32m----> 2\u001b[1;33m \u001b[0msshmaster\u001b[0m\u001b[1;33m(\u001b[0m\u001b[1;34m\"192.168.31.57\"\u001b[0m\u001b[1;33m,\u001b[0m\u001b[1;34m\"source creds && openstack host show compute01\"\u001b[0m\u001b[1;33m)\u001b[0m\u001b[1;33m\u001b[0m\u001b[1;33m\u001b[0m\u001b[0m\n\u001b[0m\u001b[0;32m      3\u001b[0m \u001b[0mprint\u001b[0m\u001b[1;33m(\u001b[0m\u001b[0mstd\u001b[0m\u001b[1;33m)\u001b[0m\u001b[1;33m\u001b[0m\u001b[1;33m\u001b[0m\u001b[0m\n",
      "\u001b[1;32m<ipython-input-26-e33d4fd8bfc1>\u001b[0m in \u001b[0;36msshmaster\u001b[1;34m(address, cmp)\u001b[0m\n\u001b[0;32m      4\u001b[0m     \u001b[0mmastervmhd1\u001b[0m\u001b[1;33m.\u001b[0m\u001b[0mset_missing_host_key_policy\u001b[0m\u001b[1;33m(\u001b[0m\u001b[0mparamiko\u001b[0m\u001b[1;33m.\u001b[0m\u001b[0mAutoAddPolicy\u001b[0m\u001b[1;33m(\u001b[0m\u001b[1;33m)\u001b[0m\u001b[1;33m)\u001b[0m\u001b[1;33m\u001b[0m\u001b[1;33m\u001b[0m\u001b[0m\n\u001b[0;32m      5\u001b[0m     \u001b[0mprint\u001b[0m\u001b[1;33m(\u001b[0m\u001b[1;34m\"connecting\"\u001b[0m\u001b[1;33m)\u001b[0m\u001b[1;33m\u001b[0m\u001b[1;33m\u001b[0m\u001b[0m\n\u001b[1;32m----> 6\u001b[1;33m     \u001b[0mmastervmhd1\u001b[0m\u001b[1;33m.\u001b[0m\u001b[0mconnect\u001b[0m\u001b[1;33m(\u001b[0m\u001b[0maddress\u001b[0m\u001b[1;33m,\u001b[0m \u001b[1;34m\"22\"\u001b[0m\u001b[1;33m,\u001b[0m \u001b[1;34m\"ubuntu\"\u001b[0m\u001b[1;33m,\u001b[0m \u001b[1;34m\"root1234\"\u001b[0m\u001b[1;33m,\u001b[0m\u001b[1;34m\"C:\\\\Users\\\\Mohammed Mudassir\\\\Downloads\\\\ins1key1.ppk\"\u001b[0m\u001b[1;33m)\u001b[0m\u001b[1;33m\u001b[0m\u001b[1;33m\u001b[0m\u001b[0m\n\u001b[0m\u001b[0;32m      7\u001b[0m     \u001b[0mprint\u001b[0m\u001b[1;33m(\u001b[0m\u001b[1;34m\"connected\"\u001b[0m\u001b[1;33m)\u001b[0m\u001b[1;33m\u001b[0m\u001b[1;33m\u001b[0m\u001b[0m\n\u001b[0;32m      8\u001b[0m     \u001b[0mstdin\u001b[0m\u001b[1;33m,\u001b[0m \u001b[0mstdout\u001b[0m\u001b[1;33m,\u001b[0m \u001b[0mstderr\u001b[0m \u001b[1;33m=\u001b[0m \u001b[0mmastervmhd1\u001b[0m\u001b[1;33m.\u001b[0m\u001b[0mexec_command\u001b[0m\u001b[1;33m(\u001b[0m\u001b[0mcmp\u001b[0m\u001b[1;33m,\u001b[0m\u001b[0mget_pty\u001b[0m\u001b[1;33m=\u001b[0m\u001b[1;32mTrue\u001b[0m\u001b[1;33m)\u001b[0m\u001b[1;33m\u001b[0m\u001b[1;33m\u001b[0m\u001b[0m\n",
      "\u001b[1;32mc:\\users\\mohammed mudassir\\appdata\\local\\programs\\python\\python37\\lib\\site-packages\\paramiko\\client.py\u001b[0m in \u001b[0;36mconnect\u001b[1;34m(self, hostname, port, username, password, pkey, key_filename, timeout, allow_agent, look_for_keys, compress, sock, gss_auth, gss_kex, gss_deleg_creds, gss_host, banner_timeout, auth_timeout, gss_trust_dns, passphrase, disabled_algorithms)\u001b[0m\n\u001b[0;32m    444\u001b[0m             \u001b[0mgss_deleg_creds\u001b[0m\u001b[1;33m,\u001b[0m\u001b[1;33m\u001b[0m\u001b[1;33m\u001b[0m\u001b[0m\n\u001b[0;32m    445\u001b[0m             \u001b[0mt\u001b[0m\u001b[1;33m.\u001b[0m\u001b[0mgss_host\u001b[0m\u001b[1;33m,\u001b[0m\u001b[1;33m\u001b[0m\u001b[1;33m\u001b[0m\u001b[0m\n\u001b[1;32m--> 446\u001b[1;33m             \u001b[0mpassphrase\u001b[0m\u001b[1;33m,\u001b[0m\u001b[1;33m\u001b[0m\u001b[1;33m\u001b[0m\u001b[0m\n\u001b[0m\u001b[0;32m    447\u001b[0m         )\n\u001b[0;32m    448\u001b[0m \u001b[1;33m\u001b[0m\u001b[0m\n",
      "\u001b[1;32mc:\\users\\mohammed mudassir\\appdata\\local\\programs\\python\\python37\\lib\\site-packages\\paramiko\\client.py\u001b[0m in \u001b[0;36m_auth\u001b[1;34m(self, username, password, pkey, key_filenames, allow_agent, look_for_keys, gss_auth, gss_kex, gss_deleg_creds, gss_host, passphrase)\u001b[0m\n\u001b[0;32m    658\u001b[0m                     \u001b[0mDEBUG\u001b[0m\u001b[1;33m,\u001b[0m\u001b[1;33m\u001b[0m\u001b[1;33m\u001b[0m\u001b[0m\n\u001b[0;32m    659\u001b[0m                     \"Trying SSH key {}\".format(\n\u001b[1;32m--> 660\u001b[1;33m                         \u001b[0mhexlify\u001b[0m\u001b[1;33m(\u001b[0m\u001b[0mpkey\u001b[0m\u001b[1;33m.\u001b[0m\u001b[0mget_fingerprint\u001b[0m\u001b[1;33m(\u001b[0m\u001b[1;33m)\u001b[0m\u001b[1;33m)\u001b[0m\u001b[1;33m\u001b[0m\u001b[1;33m\u001b[0m\u001b[0m\n\u001b[0m\u001b[0;32m    661\u001b[0m                     ),\n\u001b[0;32m    662\u001b[0m                 )\n",
      "\u001b[1;31mAttributeError\u001b[0m: 'str' object has no attribute 'get_fingerprint'"
     ]
    }
   ],
   "source": [
    "std=[]\n",
    "sshmaster(\"192.168.31.57\",\"source creds && openstack host show compute01\")\n",
    "print(std)"
   ]
  },
  {
   "cell_type": "code",
   "execution_count": 28,
   "metadata": {},
   "outputs": [
    {
     "ename": "NameError",
     "evalue": "name 'proxy_host' is not defined",
     "output_type": "error",
     "traceback": [
      "\u001b[1;31m---------------------------------------------------------------------------\u001b[0m",
      "\u001b[1;31mNameError\u001b[0m                                 Traceback (most recent call last)",
      "\u001b[1;32m<ipython-input-28-9a8a0d5dae03>\u001b[0m in \u001b[0;36m<module>\u001b[1;34m\u001b[0m\n\u001b[0;32m      2\u001b[0m \u001b[0m_proxy_ssh\u001b[0m\u001b[1;33m.\u001b[0m\u001b[0mset_missing_host_key_policy\u001b[0m\u001b[1;33m(\u001b[0m\u001b[0mparamiko\u001b[0m\u001b[1;33m.\u001b[0m\u001b[0mAutoAddPolicy\u001b[0m\u001b[1;33m(\u001b[0m\u001b[1;33m)\u001b[0m\u001b[1;33m)\u001b[0m\u001b[1;33m\u001b[0m\u001b[1;33m\u001b[0m\u001b[0m\n\u001b[0;32m      3\u001b[0m \u001b[1;33m\u001b[0m\u001b[0m\n\u001b[1;32m----> 4\u001b[1;33m _proxy_ssh.connect(proxy_host, username=proxy_username,\n\u001b[0m\u001b[0;32m      5\u001b[0m                    pkey=proxy_private_key, sock=proxy)\n\u001b[0;32m      6\u001b[0m \u001b[1;33m\u001b[0m\u001b[0m\n",
      "\u001b[1;31mNameError\u001b[0m: name 'proxy_host' is not defined"
     ]
    }
   ],
   "source": [
    "_proxy_ssh = paramiko.SSHClient()\n",
    "_proxy_ssh.set_missing_host_key_policy(paramiko.AutoAddPolicy())\n",
    "\n",
    "_proxy_ssh.connect(proxy_host, username=proxy_username,\n",
    "                   pkey=proxy_private_key, sock=proxy)\n",
    "\n",
    "chan = _proxy_ssh.get_transport().open_session()\n",
    "chan.exec_command(\"nc {0} {1}\".format(host, SSH_PORT))\n",
    "\n",
    "_ssh.connect(host, username=username, pkey=private_key, sock=chan)"
   ]
  },
  {
   "cell_type": "code",
   "execution_count": 35,
   "metadata": {},
   "outputs": [
    {
     "name": "stdout",
     "output_type": "stream",
     "text": [
      "connecting\n",
      "connected\n",
      "b'sysbench 0.4.12:  multi-threaded system evaluation benchmark\\n\\nRunning the test with following options:\\nNumber of threads: 1\\n\\nDoing CPU performance benchmark\\n\\nThreads started!\\nDone.\\n\\nMaximum prime number checked in CPU test: 20000\\n\\n\\nTest execution summary:\\n    total time:                          85.0175s\\n    total number of events:              10000\\n    total time taken by event execution: 84.9770\\n    per-request statistics:\\n         min:                                  6.57ms\\n         avg:                                  8.50ms\\n         max:                                176.21ms\\n         approx.  95 percentile:              10.36ms\\n\\nThreads fairness:\\n    events (avg/stddev):           10000.0000/0.00\\n    execution time (avg/stddev):   84.9770/0.00\\n\\n'\n"
     ]
    }
   ],
   "source": [
    "pem_file = paramiko.RSAKey.from_private_key_file(\"ins1key1.pem\")\n",
    "mastervm = paramiko.SSHClient()\n",
    "mastervm.set_missing_host_key_policy(paramiko.AutoAddPolicy())\n",
    "print(\"connecting\")\n",
    "mastervm.connect( hostname =\"192.168.31.57\", username = \"ubuntu\", pkey = pem_file)\n",
    "print(\"connected\")\n",
    "#c.exec_command('ls')\n",
    "# sftp=mastervm.open_sftp()\n",
    "# sftp.put(\"javamaster.sh\",\"javamaster.sh\")\n",
    "# sftp.close()\n",
    "stdin , stdout, stderr =mastervm.exec_command('sysbench --test=cpu --cpu-max-prime=20000 run')\n",
    "print(stdout.read())\n",
    "# stdin , stdout, stderr =mastervm.exec_command('./javamaster.sh')\n",
    "# print(stdout.read())\n",
    "# print(stderr.read())\n",
    "mastervm.close()"
   ]
  },
  {
   "cell_type": "code",
   "execution_count": null,
   "metadata": {},
   "outputs": [],
   "source": []
  }
 ],
 "metadata": {
  "kernelspec": {
   "display_name": "Python 3",
   "language": "python",
   "name": "python3"
  },
  "language_info": {
   "codemirror_mode": {
    "name": "ipython",
    "version": 3
   },
   "file_extension": ".py",
   "mimetype": "text/x-python",
   "name": "python",
   "nbconvert_exporter": "python",
   "pygments_lexer": "ipython3",
   "version": "3.7.9"
  }
 },
 "nbformat": 4,
 "nbformat_minor": 4
}
